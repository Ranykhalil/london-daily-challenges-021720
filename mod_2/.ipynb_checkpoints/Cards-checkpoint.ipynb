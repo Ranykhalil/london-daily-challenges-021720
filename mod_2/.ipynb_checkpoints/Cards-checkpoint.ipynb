{
 "cells": [
  {
   "cell_type": "markdown",
   "metadata": {},
   "source": [
    "# Probability \n",
    "\n",
    "A standard deck of playing cards consists of 52 cards in each of the four suits of spades, hearts, diamonds, and clubs. Each suit contains 13 cards: Ace, 2, 3, 4, 5, 6, 7, 8, 9, 10, Jack, Queen, and King.\n",
    "\n",
    "You have a standard deck of 52 cards and are asked the following questions:\n",
    "\n",
    "Question 1: What is the probability of drawing a King or a Queen?\n",
    "\n",
    "Question 2: What is the probability of drawing an Ace followed by a club?\n",
    "\n",
    "Question 3: What is the probability of drawing a red card, then a black card, then red card?\n",
    "\n",
    "Question 4: How many possible 5-card combinations can be formed with this deck of 52 cards?\n",
    "\n",
    "Show all your work and thinking in Python!"
   ]
  },
  {
   "cell_type": "code",
   "execution_count": 1,
   "metadata": {},
   "outputs": [
    {
     "name": "stdout",
     "output_type": "stream",
     "text": [
      "What is the probability of drawing a King or a Queen?\n",
      "The probabilty of this happening is 15.38 %\n"
     ]
    }
   ],
   "source": [
    "# Code Here!\n",
    "cards_spades = {'A', 'K', 'Q', 'J', '10', '9', '8', '7', '6', '5', '4', '3', '2'}\n",
    "cards_hearts = {'A', 'K', 'Q', 'J', '10', '9', '8', '7', '6', '5', '4', '3', '2'}\n",
    "cards_diamonds = {'A', 'K', 'Q', 'J', '10', '9', '8', '7', '6', '5', '4', '3', '2'}\n",
    "cards_clubs = {'A', 'K', 'Q', 'J', '10', '9', '8', '7', '6', '5', '4', '3', '2'}\n",
    "\n",
    "multiset = [cards_spades,cards_hearts,cards_diamonds,cards_clubs]\n",
    "multiset_dict = {}\n",
    "count = 0\n",
    "cards_in_question = ['K','Q'] #ADDING DIFFERENT CARDS IN HERE CHNAGES THE PARAMETERS \n",
    "\n",
    "for index in list(range(len(multiset))):\n",
    "    for item in multiset[index]:\n",
    "        if item not in list(multiset_dict.keys()):\n",
    "            multiset_dict[item]= 1\n",
    "        else:\n",
    "            multiset_dict[item] = multiset_dict[item] + 1\n",
    "\n",
    "for card in multiset_dict.keys():\n",
    "    if card in cards_in_question:\n",
    "        count += multiset_dict[card]\n",
    "        \n",
    "        \n",
    "probability = count/sum(multiset_dict.values())\n",
    "prob = round((probability*100),2)\n",
    "print('What is the probability of drawing a King or a Queen?')\n",
    "print('The probabilty of this happening is ' + str(prob)+ ' %')\n"
   ]
  },
  {
   "cell_type": "code",
   "execution_count": 2,
   "metadata": {},
   "outputs": [
    {
     "name": "stdout",
     "output_type": "stream",
     "text": [
      "What is the probability of drawing an Ace followed by a club?\n",
      "The probabilty of this happening is 1.92 %\n"
     ]
    }
   ],
   "source": [
    "multiset = [cards_spades,cards_hearts,cards_diamonds,cards_clubs]\n",
    "\n",
    "count = 0\n",
    "cards_in_question = ['A']\n",
    "multiset_dict_1 = {}\n",
    "\n",
    "\n",
    "for index in list(range(len(multiset))):\n",
    "    for item in multiset[index]:\n",
    "        if item not in list(multiset_dict_1.keys()):\n",
    "            multiset_dict_1[item]= 1\n",
    "        else:\n",
    "            multiset_dict_1[item] += 1\n",
    "\n",
    "for card in multiset_dict_1.keys():\n",
    "    if card in cards_in_question:\n",
    "        count += multiset_dict_1[card]  \n",
    "        multiset_dict_1[card] -= count\n",
    "#Probability splits in this case (what if the first ace was a club) - > follow the question for \"if first \n",
    "#ace is a club\" then \"if the ace wasnt a club\" then add the two probabilities together\n",
    "        \n",
    "probability1 = (count - 1)/ (sum(multiset_dict_1.values()) + count) # probability of non Ace club being selected\n",
    "probability2 = 1 /(sum(multiset_dict_1.values()) + count) # probability of the Ace of clubs being selected\n",
    "\n",
    "probability = ((probability1 * len(cards_clubs))/ (sum(multiset_dict_1.values()) + count - 1)) + probability2 * (len(cards_clubs) - 1)/(sum(multiset_dict_1.values()) + count - 1) \n",
    "#(multiply cuz the two steps are dependant)\n",
    "#(add because the two cases are independant)\n",
    "prob = round((probability*100),2)\n",
    "\n",
    "print('What is the probability of drawing an Ace followed by a club?')\n",
    "print('The probabilty of this happening is ' + str(prob) + ' %')"
   ]
  },
  {
   "cell_type": "code",
   "execution_count": 3,
   "metadata": {},
   "outputs": [
    {
     "name": "stdout",
     "output_type": "stream",
     "text": [
      "What is the probability of drawing a red card, then a black card, then red card?\n",
      "The probabilty of this happening is 12.75 %\n"
     ]
    }
   ],
   "source": [
    "total_red = sum(multiset_dict.values()) / 2 #Half of the cards are red\n",
    "total_black = total_red  #Number of red cards equal number of black cards\n",
    "\n",
    "prob_1 = total_red / (total_red + total_black)\n",
    "total_red -= 1 # Update total number of colored cards after each probability calculation \n",
    "prob_2 = total_black / (total_red + total_black)\n",
    "total_black -= 1 # Update total number of colored cards after each probability calculation\n",
    "prob_3 = total_red / (total_red + total_black)\n",
    "total_red -= 1 # Update total number of colored cards after each probability calculation\n",
    "\n",
    "prob = round((prob_1*prob_2*prob_3)*100,2) #They are dependant and hence we multiply to get the overall probabilities together\n",
    "\n",
    "print('What is the probability of drawing a red card, then a black card, then red card?')\n",
    "print('The probabilty of this happening is ' + str(prob) + ' %')"
   ]
  },
  {
   "cell_type": "code",
   "execution_count": 4,
   "metadata": {},
   "outputs": [
    {
     "name": "stdout",
     "output_type": "stream",
     "text": [
      "How many possible 5-card combinations can be formed with this deck of 52 cards?\n",
      "Total number of combinations are 2598960\n"
     ]
    }
   ],
   "source": [
    "from itertools import combinations\n",
    "\n",
    "comb = combinations(list(cards_spades)*4,5) # Use the multiplication of lists in python to create 4 duplicates of each card\n",
    "#find the combination of selecting 5 cards from the deck\n",
    "\n",
    "print('How many possible 5-card combinations can be formed with this deck of 52 cards?')\n",
    "print('Total number of combinations are ' + str(len(list(comb))))"
   ]
  },
  {
   "cell_type": "code",
   "execution_count": null,
   "metadata": {},
   "outputs": [],
   "source": []
  }
 ],
 "metadata": {
  "kernelspec": {
   "display_name": "Python 3",
   "language": "python",
   "name": "python3"
  },
  "language_info": {
   "codemirror_mode": {
    "name": "ipython",
    "version": 3
   },
   "file_extension": ".py",
   "mimetype": "text/x-python",
   "name": "python",
   "nbconvert_exporter": "python",
   "pygments_lexer": "ipython3",
   "version": "3.7.4"
  }
 },
 "nbformat": 4,
 "nbformat_minor": 2
}
