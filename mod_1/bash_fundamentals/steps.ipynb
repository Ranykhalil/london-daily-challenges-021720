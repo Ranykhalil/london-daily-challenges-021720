find . -type f
cp ./little/help/from/my/friends/not_lyrics.sh
ls
mv not_lyrics.sh other_lyrics.sh
ls
touch favorite_song.txt
vim favorite_song.txt
"Add some text in vim"
":wq"
vim the_beatles.txt
"Add the 2 names"
vim yellow_submarine.txt
:%s/golden watercraft/yellow submarine/g

